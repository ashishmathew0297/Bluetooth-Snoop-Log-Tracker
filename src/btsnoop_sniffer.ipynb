{
 "cells": [
  {
   "cell_type": "markdown",
   "metadata": {},
   "source": [
    "# BTSnoop Log Sniffer\n",
    "\n",
    "This notebook demonstrates the process of parsing bluetooth packet data from android hci logs."
   ]
  },
  {
   "cell_type": "code",
   "execution_count": null,
   "metadata": {},
   "outputs": [
    {
     "name": "stdout",
     "output_type": "stream",
     "text": [
      "btsnoop capture file version 1, type 1002\n"
     ]
    }
   ],
   "source": [
    "import btsnoop.btsnoop.btsnoop as bts\n",
    "import btsnoop.bt.hci as hci\n",
    "import btsnoop.bt.hci_uart as hci_uart\n",
    "import btsnoop.bt.hci_cmd as hci_cmd\n",
    "import btsnoop.bt.hci_evt as hci_evt\n",
    "import btsnoop.bt.hci_acl as hci_acl\n",
    "import btsnoop.bt.hci_sco as hci_sco\n",
    "import btsnoop.bt.l2cap as l2cap\n",
    "import btsnoop.bt.att as att\n",
    "import btsnoop.bt.smp as smp\n",
    "import binascii\n",
    "import pandas as pd\n",
    "from pprint import pprint\n",
    "\n",
    "records = bts.parse(\"./bt_logfiles/btsnoop_hci_10022024_1930.log\")\n",
    "\n",
    "\n",
    "# TODO: SQLite storage for known devices"
   ]
  },
  {
   "cell_type": "code",
   "execution_count": 82,
   "metadata": {},
   "outputs": [
    {
     "ename": "SyntaxError",
     "evalue": "invalid syntax (3457954134.py, line 29)",
     "output_type": "error",
     "traceback": [
      "\u001b[0;36m  Cell \u001b[0;32mIn[82], line 29\u001b[0;36m\u001b[0m\n\u001b[0;31m    row.append(['opcode':opcode,\u001b[0m\n\u001b[0m                        ^\u001b[0m\n\u001b[0;31mSyntaxError\u001b[0m\u001b[0;31m:\u001b[0m invalid syntax\n"
     ]
    }
   ],
   "source": [
    "rows = []\n",
    "for record in records:\n",
    "    row = {}\n",
    "    seq = record[0]\n",
    "    packet_length = record[1]\n",
    "    flags_raw = record[2]\n",
    "    flags = bts.flags_to_str(flags_raw)\n",
    "    pkt_src = flags[0].capitalize()\n",
    "    pkt_dst = flags[1].capitalize()\n",
    "    pkt_type = flags[2]\n",
    "    time = record[3].strftime(\"%b-%d %H:%M:%S.%f\")\n",
    "    pkt_data = record[4]\n",
    "\n",
    "    direction = bts.flags_to_direction(flags_raw)\n",
    "\n",
    "    hci_pkt_type, hci_pkt_data = hci_uart.parse(record[4])\n",
    "    hci = hci_uart.type_to_str(hci_pkt_type)\n",
    "\n",
    "    row.append({'sequence_number':seq,\n",
    "         'packet_length':packet_length,\n",
    "         'pkt_src':pkt_src,\n",
    "         'pkt_dst':pkt_dst,\n",
    "         'pkt_type':pkt_type,\n",
    "         'pkt_data':pkt_data})\n",
    "\n",
    "    if hci_pkt_type == hci_uart.HCI_CMD:\n",
    "        opcode, length, data = hci_cmd.parse(hci_pkt_data)\n",
    "        cmd_evt_l2cap = hci_cmd.cmd_to_str(opcode)\n",
    "        row.append(['opcode':opcode,\n",
    "                    'hci_cmd_data':data, 'cmd_evt_l2cap':cmd_evt_l2cap])\n",
    "    elif hci_pkt_type == hci_uart.HCI_EVT:\n",
    "        hci_data = hci_evt.parse(hci_pkt_data)\n",
    "        evtcode, data = hci_data[0], hci_data[-1]\n",
    "        cmd_evt_l2cap = hci_evt.evt_to_str(evtcode)\n",
    "        row.extend([evtcode, data, cmd_evt_l2cap])\n",
    "    elif hci_pkt_type == hci_uart.SCO_DATA:\n",
    "        handle, ps, length, data = hci_sco.parse(hci_pkt_data)\n",
    "        row.extend([handle, ps, data])\n",
    "        # l2cap_length, l2cap_cid, l2cap_data = l2cap.parse(hci_data[2], data)\n",
    "\n",
    "        # data = binascii.hexlify(data)\n",
    "        # data = len(data) > 30 and data[:30] + \"...\" or data\n",
    "        # print(handle, ps, length, data)\n",
    "\n",
    "        raise Exception('DEBUG: SCO Data!')\n",
    "    elif hci_pkt_type == hci_uart.ACL_DATA:\n",
    "        hci_data = hci_acl.parse(hci_pkt_data)\n",
    "        l2cap_length, l2cap_cid, l2cap_data = l2cap.parse(hci_data[2], hci_data[4])\n",
    "\n",
    "        if l2cap_cid == l2cap.L2CAP_CID_LE_ATT:\n",
    "            att_opcode, att_data = att.parse(l2cap_data)\n",
    "            cmd_evt_l2cap = att.opcode_to_str(att_opcode, att_data)\n",
    "            data = att_data\n",
    "\n",
    "        elif l2cap_cid == l2cap.L2CAP_CID_LE_SMP:\n",
    "            smp_code, smp_data = smp.parse(l2cap_data)\n",
    "            cmd_evt_l2cap = smp.code_to_str(smp_code)\n",
    "            data = smp_data\n",
    "\n",
    "        elif l2cap_cid == l2cap.L2CAP_CID_LE_SCH:\n",
    "            sch_code, sch_id, sch_length, sch_data = l2cap.parse_sch(l2cap_data)\n",
    "            cmd_evt_l2cap = l2cap.sch_code_to_str(sch_code)\n",
    "            data = sch_data\n",
    "    else:\n",
    "        raise Exception('Unknown HCI Packet Type')\n",
    "\n",
    "    rows.append(row)"
   ]
  },
  {
   "cell_type": "code",
   "execution_count": 83,
   "metadata": {},
   "outputs": [
    {
     "name": "stdout",
     "output_type": "stream",
     "text": [
      "[{'packet_length': 47,\n",
      "  'pkt_data': b'\\x04>,\\r\\x01\\x1b\\x00\\x01\\xcb9\\x19\\xdd\\xe3l\\x01\\x00'\n",
      "              b'\\xff\\x7f\\xc0\\x00\\x00\\x00\\x00\\x00\\x00\\x00\\x00\\x00\\x12\\x11\\tJBL V'\n",
      "              b'IBE BUDS-LE',\n",
      "  'pkt_dst': 'Host',\n",
      "  'pkt_src': 'Controller',\n",
      "  'pkt_type': 'event',\n",
      "  'sequence_number': 1},\n",
      " 62,\n",
      " b'\\x01\\x1b\\x00\\x01\\xcb9\\x19\\xdd\\xe3l\\x01\\x00\\xff\\x7f\\xc0\\x00\\x00\\x00\\x00\\x00'\n",
      " b'\\x00\\x00\\x00\\x00\\x12\\x11\\tJBL VIBE BUDS-LE',\n",
      " 'EVENT LE_Meta_Event (0x3e)']\n"
     ]
    }
   ],
   "source": [
    "pprint(rows[0])"
   ]
  },
  {
   "cell_type": "code",
   "execution_count": null,
   "metadata": {},
   "outputs": [],
   "source": [
    "\n",
    "if hci_type == hci_uart.HCI_CMD:\n",
    "    opcode, length, data = hci_cmd.parse(data)\n",
    "    cmd_evt_l2cap = hci_cmd.cmd_to_str(opcode)\n",
    "    print(cmd_evt_l2cap)"
   ]
  },
  {
   "cell_type": "code",
   "execution_count": 33,
   "metadata": {},
   "outputs": [
    {
     "ename": "NameError",
     "evalue": "name 'cmd_evt_l2cap' is not defined",
     "output_type": "error",
     "traceback": [
      "\u001b[0;31m---------------------------------------------------------------------------\u001b[0m",
      "\u001b[0;31mNameError\u001b[0m                                 Traceback (most recent call last)",
      "Cell \u001b[0;32mIn[33], line 1\u001b[0m\n\u001b[0;32m----> 1\u001b[0m cmd_evt_l2cap\n",
      "\u001b[0;31mNameError\u001b[0m: name 'cmd_evt_l2cap' is not defined"
     ]
    }
   ],
   "source": [
    "cmd_evt_l2cap"
   ]
  },
  {
   "cell_type": "markdown",
   "metadata": {},
   "source": [
    "[Reference](https://datatracker.ietf.org/doc/html/rfc1761)\n",
    "\n",
    "Android bluetooth logs come in the **Snoop Version 1 Packet Capture File Format** which is similar to the second version developed by Sun Microsystems in 1995. When we capture logs of this format, we obtain arrays of octets (8 bit packets of information), with each array item corresponding to a packet record.\n"
   ]
  },
  {
   "cell_type": "markdown",
   "metadata": {},
   "source": []
  }
 ],
 "metadata": {
  "kernelspec": {
   "display_name": "base",
   "language": "python",
   "name": "python3"
  },
  "language_info": {
   "codemirror_mode": {
    "name": "ipython",
    "version": 3
   },
   "file_extension": ".py",
   "mimetype": "text/x-python",
   "name": "python",
   "nbconvert_exporter": "python",
   "pygments_lexer": "ipython3",
   "version": "3.12.7"
  }
 },
 "nbformat": 4,
 "nbformat_minor": 2
}

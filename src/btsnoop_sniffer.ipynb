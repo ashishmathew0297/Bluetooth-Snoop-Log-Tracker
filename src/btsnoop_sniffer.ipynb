{
 "cells": [
  {
   "cell_type": "markdown",
   "metadata": {},
   "source": [
    "# BTSnoop Log Sniffer\n",
    "\n",
    "This notebook demonstrates the process of parsing bluetooth packet data from android hci logs."
   ]
  },
  {
   "cell_type": "code",
   "execution_count": 17,
   "metadata": {},
   "outputs": [
    {
     "name": "stdout",
     "output_type": "stream",
     "text": [
      "btsnoop capture file version 1, type 1002\n"
     ]
    }
   ],
   "source": [
    "import btsnoop.btsnoop.btsnoop as bts\n",
    "import pandas as pd\n",
    "from pprint import pprint\n",
    "\n",
    "records = bts.parse(\"./bt_logfiles/btsnoop_hci_10022024_1930.log\")\n",
    "\n",
    "\n",
    "# TODO: SQLite storage for known devices"
   ]
  },
  {
   "cell_type": "code",
   "execution_count": 18,
   "metadata": {},
   "outputs": [
    {
     "name": "stdout",
     "output_type": "stream",
     "text": [
      "(39267, 47, 3, datetime.datetime(2024, 10, 2, 19, 30, 3, 201807), b'\\x04>,\\r\\x01\\x1b\\x00\\x01\\x85\\x7f@\\x13\\xb0_\\x01\\x00\\xff\\x7f\\xd4\\x00\\x00\\x00\\x00\\x00\\x00\\x00\\x00\\x00\\x12\\x11\\tJBL VIBE BUDS-LE')\n"
     ]
    }
   ],
   "source": [
    "print(records[-1])"
   ]
  },
  {
   "cell_type": "markdown",
   "metadata": {},
   "source": [
    "[Reference](https://datatracker.ietf.org/doc/html/rfc1761)\n",
    "\n",
    "Android bluetooth logs come in the **Snoop Version 1 Packet Capture File Format** which is similar to the second version developed by Sun Microsystems in 1995. When we capture logs of this format, we obtain arrays of octets (8 bit packets of information), with each array item corresponding to a packet record.\n"
   ]
  },
  {
   "cell_type": "code",
   "execution_count": null,
   "metadata": {},
   "outputs": [
    {
     "ename": "",
     "evalue": "",
     "output_type": "error",
     "traceback": [
      "\u001b[1;31mnotebook controller is DISPOSED. \n",
      "\u001b[1;31mView Jupyter <a href='command:jupyter.viewOutput'>log</a> for further details."
     ]
    },
    {
     "ename": "",
     "evalue": "",
     "output_type": "error",
     "traceback": [
      "\u001b[1;31mnotebook controller is DISPOSED. \n",
      "\u001b[1;31mView Jupyter <a href='command:jupyter.viewOutput'>log</a> for further details."
     ]
    }
   ],
   "source": []
  }
 ],
 "metadata": {
  "kernelspec": {
   "display_name": ".venv",
   "language": "python",
   "name": "python3"
  },
  "language_info": {
   "codemirror_mode": {
    "name": "ipython",
    "version": 3
   },
   "file_extension": ".py",
   "mimetype": "text/x-python",
   "name": "python",
   "nbconvert_exporter": "python",
   "pygments_lexer": "ipython3",
   "version": "3.12.3"
  }
 },
 "nbformat": 4,
 "nbformat_minor": 2
}

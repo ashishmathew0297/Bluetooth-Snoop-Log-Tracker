{
 "cells": [
  {
   "cell_type": "markdown",
   "metadata": {},
   "source": [
    "# BTSnoop Log Sniffer\n",
    "\n",
    "This notebook demonstrates the process of parsing bluetooth packet data from android hci logs."
   ]
  },
  {
   "cell_type": "code",
   "execution_count": 57,
   "metadata": {},
   "outputs": [],
   "source": [
    "# !pip install fpdf\n",
    "# !pip install kaleido\n",
    "# !pip install dataframe_image"
   ]
  },
  {
   "cell_type": "code",
   "execution_count": 1,
   "metadata": {},
   "outputs": [],
   "source": [
    "import fpdf\n",
    "from fpdf import FPDF\n",
    "import dataframe_image as dfi\n",
    "import matplotlib.pyplot as plt\n",
    "import time\n",
    "\n",
    "import json\n",
    "import pandas as pd\n",
    "from pprint import pprint\n",
    "\n",
    "pd.set_option('display.max_columns', None)\n",
    "\n",
    "# TODO: SQLite storage for known devices"
   ]
  },
  {
   "cell_type": "markdown",
   "metadata": {},
   "source": [
    "[source](https://github.com/nccgroup/BLE-Replay/blob/master/btsnoop/btsnoop/bt/hci_evt.py)\n",
    "\n",
    "The HCI LE Meta Event is used to encapsulate all LE Controller specific events.\n",
    "The Event Code of all LE Meta Events shall be 0x3E. The Subevent_Code is\n",
    "the first octet of the event parameters. The Subevent_Code shall be set to one\n",
    "of the valid Subevent_Codes from an LE specific event\n",
    "\n",
    "\n",
    "HCI inherently cannot differentiate between packet types. Hence a common physical interface is used with the indicators that are sent right before the packet is sent. These indicators are as follows\n",
    "\n",
    "| HCI Packet Type | HCI Packet Indicator |\n",
    "| --------------- | -------------------- |\n",
    "| HCI Command Packet | 0x01 |\n",
    "| HCI ACL Data Packet | 0x02 |\n",
    "| HCI Synchronous Data Packet | 0x03 |\n",
    "| HCI Event Packet | 0x04 |\n",
    "| HCI ISO Data Packet | 0x05 |\n",
    "\n",
    "LE Meta events encapsulate all LE Controller events and have a code of 0x03"
   ]
  },
  {
   "cell_type": "markdown",
   "metadata": {},
   "source": [
    "protocols = {\n",
    "    \"bluetooth:hci_h4:bthci_acl:btl2cap\": 'ACL-L2CAP Event',\n",
    "    \"bluetooth:hci_h4:bthci_acl:btl2cap:btatt\": 'ACL-L2CAP - ATT (Attribute) Protocol',\n",
    "    \"bluetooth:hci_h4:bthci_acl:btl2cap:btavctp:btavrcp\": 'ACL-L2CAP - AVCTP/AVR Protocol',\n",
    "    \"bluetooth:hci_h4:bthci_acl:btl2cap:btavdtp\": 'ACL-L2CAP - AVDTP Protocol',\n",
    "    \"bluetooth:hci_h4:bthci_acl:btl2cap:btrfcomm\": 'ACL-L2CAP - RF Communication protocol',\n",
    "    \"bluetooth:hci_h4:bthci_acl:btl2cap:btrfcomm:bthfp\": 'ACL-L2CAP - Hands Free Protocol',\n",
    "    \"bluetooth:hci_h4:bthci_acl:btl2cap:btrfcomm:data\": 'ACL-L2CAP - Data Transfer',\n",
    "    \"bluetooth:hci_h4:bthci_acl:btl2cap:btsdp\": 'ACL-L2CAP - Service Discovery Protocol (SDP)',\n",
    "    \"bluetooth:hci_h4:bthci_cmd\": 'HCI Command',\n",
    "    \"bluetooth:hci_h4:bthci_cmd:btcommon\": 'Bluetooth Advertising Event',\n",
    "    \"bluetooth:hci_h4:bthci_cmd:bthci_vendor.broadcom\": 'Vendor-Specific Broadcom Packet',\n",
    "    \"bluetooth:hci_h4:bthci_evt\": 'HCI Event',\n",
    "    \"bluetooth:hci_h4:bthci_evt:btcommon\": 'Bluetooth Advertising Event',\n",
    "    \"bluetooth:hci_h4:bthci_evt:bthci_vendor.broadcom\": 'Vendor-Specific Broadcom Packet'\n",
    "    }\n",
    "\n",
    "hci_le_event = {\n",
    "    '0x01': 'Bluetooth HCI Command',\n",
    "    '0x02': 'Bluetooth HCI ACL',\n",
    "    '0x04': 'Bluetooth HCI Event'\n",
    "}"
   ]
  },
  {
   "cell_type": "code",
   "execution_count": null,
   "metadata": {},
   "outputs": [],
   "source": [
    "with open('./output1.json', 'r') as file:\n",
    "    data = [x[\"_source\"][\"layers\"] for x in json.load(file)]\n",
    "\n",
    "# HCI_CMD Direction h -> c 0x00\n",
    "# HCI_EVT Direction h -> c 0x00\n",
    "\n",
    "# Event has CMD in frame to point to command\n",
    "\n",
    "hci_le_event = {\n",
    "    '0x01': 'Bluetooth HCI Command (HCI_CMD)',\n",
    "    '0x02': 'Bluetooth HCI ACL (HCI_ACL)',\n",
    "    '0x04': 'Bluetooth HCI Event (HCI_EVT)'\n",
    "}\n",
    "\n",
    "event_direction = {\n",
    "    '0x00':'Host > Controller',\n",
    "    '0x01': 'Controller > Host'\n",
    "}\n",
    "\n",
    "for packet in data:\n",
    "    packet[\"Sequence Number\"] = packet[\"frame.number\"][0] if \"frame.number\" in packet else None\n",
    "    packet[\"Packet Length\"] = packet[\"frame.len\"][0] if \"frame.len\" in packet else None\n",
    "    packet[\"UTC Timestamp\"] = packet[\"frame.time_utc\"][0] if \"frame.time_utc\" in packet else None\n",
    "    packet[\"Protocol\"] = packet[\"frame.protocols\"][0] if \"frame.protocols\" in packet else None\n",
    "    packet[\"Event Type\"] = hci_le_event[packet[\"frame.number\"][0]] if \"frame.number\" in packet else None\n",
    "    packet[\"Direction\"] = event_direction[packet[\"hci_h4.direction\"][0]] if \"hci_h4.direction\" in packet else None\n",
    "    packet[\"Opcode\"] = packet[\"bthci_cmd.opcode\"][0] if \"bthci_cmd.opcode\" in packet else (packet[\"bthci_evt.opcode\"][0] if \"bthci_evt.opcode\" in packet else None)\n",
    "    packet[\"sequence_number\"] = packet[\"frame.number\"][0] if \"frame.number\" in packet else None\n",
    "    packet[\"sequence_number\"] = packet[\"frame.number\"][0] if \"frame.number\" in packet else None\n",
    "    packet[\"sequence_number\"] = packet[\"frame.number\"][0] if \"frame.number\" in packet else None\n",
    "\n",
    "\n"
   ]
  },
  {
   "cell_type": "code",
   "execution_count": 3,
   "metadata": {},
   "outputs": [
    {
     "name": "stdout",
     "output_type": "stream",
     "text": [
      "{'Epoch Time': '1727925135.575141000',\n",
      " 'Protocol': 'bluetooth:hci_h4:bthci_cmd',\n",
      " 'bthci_cmd': ['Bluetooth HCI Command - Reset'],\n",
      " 'bthci_cmd.opcode': ['0x0c03'],\n",
      " 'frame.len': ['4'],\n",
      " 'frame.number': ['1'],\n",
      " 'frame.protocols': ['bluetooth:hci_h4:bthci_cmd'],\n",
      " 'frame.time_epoch': ['1727925135.575141000'],\n",
      " 'hci_h4.direction': ['0x00'],\n",
      " 'hci_h4.type': ['0x01'],\n",
      " 'packet_length': '4',\n",
      " 'sequence_number': '1'}\n"
     ]
    }
   ],
   "source": [
    "pprint(data[0])"
   ]
  },
  {
   "cell_type": "code",
   "execution_count": 60,
   "metadata": {},
   "outputs": [
    {
     "ename": "KeyError",
     "evalue": "'btatt.opcode'",
     "output_type": "error",
     "traceback": [
      "\u001b[0;31m---------------------------------------------------------------------------\u001b[0m",
      "\u001b[0;31mKeyError\u001b[0m                                  Traceback (most recent call last)",
      "Cell \u001b[0;32mIn[60], line 1\u001b[0m\n\u001b[0;32m----> 1\u001b[0m unique_protocols \u001b[38;5;241m=\u001b[39m \u001b[38;5;28mset\u001b[39m(packet[\u001b[38;5;124m'\u001b[39m\u001b[38;5;124mbtatt.opcode\u001b[39m\u001b[38;5;124m'\u001b[39m] \u001b[38;5;28;01mfor\u001b[39;00m packet \u001b[38;5;129;01min\u001b[39;00m data)\n\u001b[1;32m      2\u001b[0m pprint(unique_protocols)\n",
      "Cell \u001b[0;32mIn[60], line 1\u001b[0m, in \u001b[0;36m<genexpr>\u001b[0;34m(.0)\u001b[0m\n\u001b[0;32m----> 1\u001b[0m unique_protocols \u001b[38;5;241m=\u001b[39m \u001b[38;5;28mset\u001b[39m(packet[\u001b[38;5;124m'\u001b[39m\u001b[38;5;124mbtatt.opcode\u001b[39m\u001b[38;5;124m'\u001b[39m] \u001b[38;5;28;01mfor\u001b[39;00m packet \u001b[38;5;129;01min\u001b[39;00m data)\n\u001b[1;32m      2\u001b[0m pprint(unique_protocols)\n",
      "\u001b[0;31mKeyError\u001b[0m: 'btatt.opcode'"
     ]
    }
   ],
   "source": [
    "unique_protocols = set(packet['btatt.opcode'] for packet in data)\n",
    "pprint(unique_protocols)"
   ]
  },
  {
   "cell_type": "markdown",
   "metadata": {},
   "source": [
    "The Bluetooth Asynchronous Connection-oriented Logical transport (ACL) is a method of transfer of asynchronous (data that is not in real time) data over a bluetooth connection.\n",
    "\n",
    "Looking at some of the profiles under ACL we see the following:\n",
    "\n",
    "- *AVDTP*: This is the Audio/Video Distribution Transport Protocol (AVDTP) signifies the streaming of music to a bluetooth speaker device such as a set of headsets over the L2CAP protocol.\n",
    "- *HFP*: The hands free profile (HFP) can be seen as a mode of remote control between the phone and bluetooth device.\n",
    "- *AVRCP*: The Audio/Video Remote Control Profile is used along with the A2DP (Advanced Audio Distribution Profile) profile to allow a single remote device to control a bluetooth device\n",
    "- *SDP*: The Service Discovert Protocol is a manner of communication to discover the available bluetooth devices nearby and their types."
   ]
  },
  {
   "cell_type": "markdown",
   "metadata": {},
   "source": [
    "[Reference](https://datatracker.ietf.org/doc/html/rfc1761)\n",
    "\n",
    "Android bluetooth logs come in the **Snoop Version 1 Packet Capture File Format** which is similar to the second version developed by Sun Microsystems in 1995. When we capture logs of this format, we obtain arrays of octets (8 bit packets of information), with each array item corresponding to a packet record.\n"
   ]
  },
  {
   "cell_type": "code",
   "execution_count": null,
   "metadata": {},
   "outputs": [
    {
     "data": {
      "text/html": [
       "<div>\n",
       "<style scoped>\n",
       "    .dataframe tbody tr th:only-of-type {\n",
       "        vertical-align: middle;\n",
       "    }\n",
       "\n",
       "    .dataframe tbody tr th {\n",
       "        vertical-align: top;\n",
       "    }\n",
       "\n",
       "    .dataframe thead th {\n",
       "        text-align: right;\n",
       "    }\n",
       "</style>\n",
       "<table border=\"1\" class=\"dataframe\">\n",
       "  <thead>\n",
       "    <tr style=\"text-align: right;\">\n",
       "      <th></th>\n",
       "      <th>sequence_number</th>\n",
       "      <th>packet_length</th>\n",
       "      <th>time_rcvd</th>\n",
       "      <th>packet_source</th>\n",
       "      <th>packet_destination</th>\n",
       "      <th>hci_packet_type</th>\n",
       "      <th>hci_packet_code</th>\n",
       "      <th>packet_data_unparsed</th>\n",
       "    </tr>\n",
       "  </thead>\n",
       "  <tbody>\n",
       "    <tr>\n",
       "      <th>1</th>\n",
       "      <td>2</td>\n",
       "      <td>7</td>\n",
       "      <td>2024-10-03 03:12:15.580693</td>\n",
       "      <td>Controller</td>\n",
       "      <td>Host</td>\n",
       "      <td>HCI_EVT</td>\n",
       "      <td>4</td>\n",
       "      <td>b'\\x04\\x0e\\x04\\x01\\x03\\x0c\\x00'</td>\n",
       "    </tr>\n",
       "    <tr>\n",
       "      <th>3</th>\n",
       "      <td>4</td>\n",
       "      <td>7</td>\n",
       "      <td>2024-10-03 03:12:15.581154</td>\n",
       "      <td>Controller</td>\n",
       "      <td>Host</td>\n",
       "      <td>HCI_EVT</td>\n",
       "      <td>4</td>\n",
       "      <td>b'\\x04\\x0e\\x04\\x01\\x01\\x0c\\x00'</td>\n",
       "    </tr>\n",
       "    <tr>\n",
       "      <th>5</th>\n",
       "      <td>6</td>\n",
       "      <td>7</td>\n",
       "      <td>2024-10-03 03:12:15.581538</td>\n",
       "      <td>Controller</td>\n",
       "      <td>Host</td>\n",
       "      <td>HCI_EVT</td>\n",
       "      <td>4</td>\n",
       "      <td>b'\\x04\\x0e\\x04\\x01m\\x0c\\x00'</td>\n",
       "    </tr>\n",
       "    <tr>\n",
       "      <th>7</th>\n",
       "      <td>8</td>\n",
       "      <td>255</td>\n",
       "      <td>2024-10-03 03:12:15.582516</td>\n",
       "      <td>Controller</td>\n",
       "      <td>Host</td>\n",
       "      <td>HCI_EVT</td>\n",
       "      <td>4</td>\n",
       "      <td>b'\\x04\\x0e\\xfc\\x01\\x14\\x0c\\x00BCM4389C1 ES1PX_...</td>\n",
       "    </tr>\n",
       "    <tr>\n",
       "      <th>9</th>\n",
       "      <td>10</td>\n",
       "      <td>15</td>\n",
       "      <td>2024-10-03 03:12:15.582924</td>\n",
       "      <td>Controller</td>\n",
       "      <td>Host</td>\n",
       "      <td>HCI_EVT</td>\n",
       "      <td>4</td>\n",
       "      <td>b'\\x04\\x0e\\x0c\\x01\\x01\\x10\\x00\\x0b\\xcb \\x0b\\x0...</td>\n",
       "    </tr>\n",
       "  </tbody>\n",
       "</table>\n",
       "</div>"
      ],
      "text/plain": [
       "   sequence_number  packet_length                  time_rcvd packet_source  \\\n",
       "1                2              7 2024-10-03 03:12:15.580693    Controller   \n",
       "3                4              7 2024-10-03 03:12:15.581154    Controller   \n",
       "5                6              7 2024-10-03 03:12:15.581538    Controller   \n",
       "7                8            255 2024-10-03 03:12:15.582516    Controller   \n",
       "9               10             15 2024-10-03 03:12:15.582924    Controller   \n",
       "\n",
       "  packet_destination hci_packet_type  hci_packet_code  \\\n",
       "1               Host         HCI_EVT                4   \n",
       "3               Host         HCI_EVT                4   \n",
       "5               Host         HCI_EVT                4   \n",
       "7               Host         HCI_EVT                4   \n",
       "9               Host         HCI_EVT                4   \n",
       "\n",
       "                                packet_data_unparsed  \n",
       "1                    b'\\x04\\x0e\\x04\\x01\\x03\\x0c\\x00'  \n",
       "3                    b'\\x04\\x0e\\x04\\x01\\x01\\x0c\\x00'  \n",
       "5                       b'\\x04\\x0e\\x04\\x01m\\x0c\\x00'  \n",
       "7  b'\\x04\\x0e\\xfc\\x01\\x14\\x0c\\x00BCM4389C1 ES1PX_...  \n",
       "9  b'\\x04\\x0e\\x0c\\x01\\x01\\x10\\x00\\x0b\\xcb \\x0b\\x0...  "
      ]
     },
     "execution_count": 44,
     "metadata": {},
     "output_type": "execute_result"
    }
   ],
   "source": [
    "ble_data[ble_data['hci_packet_type'] == 'HCI_EVT'].dropna(axis=1, how='all').head()"
   ]
  },
  {
   "cell_type": "code",
   "execution_count": null,
   "metadata": {},
   "outputs": [
    {
     "data": {
      "image/png": "[encoded data removed]",
      "text/plain": [
       "<Figure size 1200x600 with 1 Axes>"
      ]
     },
     "metadata": {},
     "output_type": "display_data"
    }
   ],
   "source": [
    "ble_data['time_rcvd'] = pd.to_datetime(ble_data['time_rcvd'])\n",
    "\n",
    "plt.figure(figsize=(12, 6))\n",
    "for pkt_type in ble_data['hci_packet_type'].unique():\n",
    "    subset = ble_data[ble_data['hci_packet_type'] == pkt_type]\n",
    "    plt.plot(subset['time_rcvd'], subset['hci_packet_type'], '.', label=pkt_type)\n",
    "\n",
    "plt.xlabel('Time Received')\n",
    "plt.ylabel('HCI Packet Type')\n",
    "plt.title('Bluetooth Packet Types vs Time')\n",
    "plt.legend(loc='upper right')\n",
    "plt.show()"
   ]
  },
  {
   "cell_type": "markdown",
   "metadata": {},
   "source": [
    "The package used here cannot get MAC addresses and device names. TShark command\n",
    "\n",
    "```bash\n",
    "sudo tshark -r ./src/bt_logfiles/btsnoop_hci_27102024_1341.log -Y \"btcommon.eir_ad.entry.device_name\" -T fields -e frame.time -e bluetooth.device_name -e bluetooth.addr >> ./src/outputs/output4.txt\n",
    "\n",
    "sudo tshark -r ./src/bt_logfiles/btsnoop_hci_27102024_1341.log -Y \"btcommon.eir_ad.entry.device_name\" -T fields -e frame.time -e btcommon.eir_ad.entry.device_name -e bluetooth.addr > ./src/outputs/output3.txt\n",
    "```"
   ]
  }
 ],
 "metadata": {
  "kernelspec": {
   "display_name": "base",
   "language": "python",
   "name": "python3"
  },
  "language_info": {
   "codemirror_mode": {
    "name": "ipython",
    "version": 3
   },
   "file_extension": ".py",
   "mimetype": "text/x-python",
   "name": "python",
   "nbconvert_exporter": "python",
   "pygments_lexer": "ipython3",
   "version": "3.12.7"
  }
 },
 "nbformat": 4,
 "nbformat_minor": 2
}
